{
  "nbformat": 4,
  "nbformat_minor": 0,
  "metadata": {
    "colab": {
      "provenance": []
    },
    "kernelspec": {
      "name": "python3",
      "display_name": "Python 3"
    },
    "language_info": {
      "name": "python"
    }
  },
  "cells": [
    {
      "cell_type": "code",
      "execution_count": 2,
      "metadata": {
        "colab": {
          "base_uri": "https://localhost:8080/"
        },
        "id": "GxYtGzlLukB7",
        "outputId": "74665e3d-0190-40c6-cbd1-46de078a75a3"
      },
      "outputs": [
        {
          "output_type": "stream",
          "name": "stdout",
          "text": [
            "Enter temperature in Celsius: 27\n",
            "Enter rainfall in mm: 140\n",
            "Enter soil type (loamy, clay, sandy): loamy\n",
            "Recommended Crop: Rice\n"
          ]
        }
      ],
      "source": [
        "# Crop Recommendation System (Rule-Based)\n",
        "\n",
        "# Get user input\n",
        "temperature = float(input(\"Enter temperature in Celsius: \"))\n",
        "rainfall = float(input(\"Enter rainfall in mm: \"))\n",
        "soil = input(\"Enter soil type (loamy, clay, sandy): \").lower()\n",
        "\n",
        "# Rule-based recommendation\n",
        "if soil == \"loamy\" and 20 <= temperature <= 30 and 100 <= rainfall <= 200:\n",
        "    print(\"Recommended Crop: Rice\")\n",
        "elif soil == \"clay\" and 15 <= temperature <= 25 and 50 <= rainfall <= 100:\n",
        "    print(\"Recommended Crop: Wheat\")\n",
        "elif soil == \"sandy\" and 25 <= temperature <= 35 and rainfall < 50:\n",
        "    print(\"Recommended Crop: Millets\")\n",
        "elif soil == \"loamy\" and 18 <= temperature <= 28 and 80 <= rainfall <= 150:\n",
        "    print(\"Recommended Crop: Sugarcane\")\n",
        "else:\n",
        "    print(\"No suitable crop found. Please try different values.\")"
      ]
    }
  ]
}